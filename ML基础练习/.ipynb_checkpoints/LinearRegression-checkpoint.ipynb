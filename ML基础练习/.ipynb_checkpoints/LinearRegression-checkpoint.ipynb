{
 "cells": [
  {
   "cell_type": "code",
   "execution_count": 10,
   "metadata": {},
   "outputs": [],
   "source": [
    "import matplotlib.pyplot as plt\n",
    "import numpy as np"
   ]
  },
  {
   "cell_type": "code",
   "execution_count": null,
   "metadata": {},
   "outputs": [],
   "source": [
    "x = np.zeros([20,2])\n",
    "x"
   ]
  },
  {
   "cell_type": "code",
   "execution_count": 108,
   "metadata": {},
   "outputs": [
    {
     "data": {
      "image/png": "[encoded data removed]",
      "text/plain": [
       "<Figure size 432x288 with 1 Axes>"
      ]
     },
     "metadata": {
      "needs_background": "light"
     },
     "output_type": "display_data"
    }
   ],
   "source": [
    "x_list = [1,2,3,4,5,6,7,8,9,10,11,12,13,14,15,16,17,18]\n",
    "y_list = [1,2,3,3,5,2,7,8,12,10,11,2,13,13,15,16,14,18]\n",
    "x = np.array(x_list)\n",
    "y = np.array(y_list)\n",
    "plt.scatter(x,y)\n",
    "plt.show()"
   ]
  },
  {
   "cell_type": "markdown",
   "metadata": {},
   "source": [
    "TODO：设计计算均方误差（ MSE mean-square error）函数"
   ]
  },
  {
   "cell_type": "code",
   "execution_count": 60,
   "metadata": {},
   "outputs": [],
   "source": [
    "#预设为f(x)=x函数\n",
    "f = lambda t:t\n",
    "# # 把x y合并为二维数组 称为点集pointset\n",
    "# pointset = list(zip(x,y))\n",
    "# print(pointset)\n",
    "\n",
    "def MSE(f,x, y):\n",
    "    pass"
   ]
  },
  {
   "cell_type": "code",
   "execution_count": 69,
   "metadata": {},
   "outputs": [
    {
     "data": {
      "text/plain": [
       "2.5"
      ]
     },
     "execution_count": 69,
     "metadata": {},
     "output_type": "execute_result"
    }
   ],
   "source": [
    "# 偏离真实值的差值\n",
    "sum_array = y-x\n",
    "# 差值的平方和的平均数（MSE）\n",
    "np.average(sum_array**2)"
   ]
  },
  {
   "cell_type": "markdown",
   "metadata": {},
   "source": [
    "有两个方法最小化误差来拟合最佳曲线。\n",
    "\n",
    "最小二乘法\n",
    "---\n",
    "\n",
    "求loss最小值转变为求极值问题。  \n",
    "怎么求极值  \n",
    "令每个变量的偏导数为零，求方程组的解呗，这个是很基础的高数问题了。  \n",
    "把m和b求出来，这样就得到我们要的线性方程了。  \n",
    "TODO: 用实际数值计算一下这个方法"
   ]
  },
  {
   "cell_type": "code",
   "execution_count": 116,
   "metadata": {},
   "outputs": [
    {
     "name": "stdout",
     "output_type": "stream",
     "text": [
      "分子450.5\n",
      "分母484.5\n",
      "w的值: 0.9298245614035088\n",
      "b的值: -0.22222222222222232\n"
     ]
    }
   ],
   "source": [
    "# 最小二乘法，通过公式直接求出w，b值\n",
    "# 求w的值\n",
    "m=len(x)\n",
    "\n",
    "top = 0\n",
    "for i in range(m):\n",
    "    top += y[i]*(x[i]-np.average(x))\n",
    "print(\"分子\"+str(top))\n",
    "\n",
    "bottom = 0\n",
    "for i in range(m):\n",
    "    bottom +=x[i]**2\n",
    "bottom = bottom-1/m*(x.sum()**2)\n",
    "print(\"分母\"+str(bottom))\n",
    "\n",
    "w = top/bottom\n",
    "print(\"w的值: \"+str(w))\n",
    "\n",
    "# 求b的值\n",
    "sum =0\n",
    "for i in range(m):\n",
    "    sum+=y[i]-w*x[i]\n",
    "b = 1/m*sum\n",
    "print(\"b的值: \"+str(b))"
   ]
  },
  {
   "cell_type": "code",
   "execution_count": 117,
   "metadata": {},
   "outputs": [
    {
     "data": {
      "image/png": "[encoded data removed]",
      "text/plain": [
       "<Figure size 432x288 with 1 Axes>"
      ]
     },
     "metadata": {
      "needs_background": "light"
     },
     "output_type": "display_data"
    }
   ],
   "source": [
    "# 在图中做出函数图像\n",
    "plt.scatter(x,y)\n",
    "plt.plot(x,w*x+b)\n",
    "plt.show()"
   ]
  },
  {
   "cell_type": "markdown",
   "metadata": {},
   "source": [
    "梯度下降法（深度学习最常用方法）\n",
    "---"
   ]
  },
  {
   "cell_type": "code",
   "execution_count": 134,
   "metadata": {},
   "outputs": [
    {
     "name": "stdout",
     "output_type": "stream",
     "text": [
      "iter  0\n"
     ]
    },
    {
     "data": {
      "image/png": "[encoded data removed]",
      "text/plain": [
       "<Figure size 432x288 with 1 Axes>"
      ]
     },
     "metadata": {
      "needs_background": "light"
     },
     "output_type": "display_data"
    }
   ],
   "source": [
    "def LinearRegression():\n",
    "    learning_rate = 0.001\n",
    "    initial_b = 0\n",
    "    initial_w = 0\n",
    "    num_iter = 100\n",
    "    data = np.loadtxt(\"data.csv\",delimiter=',')\n",
    "    [b,w]=optimizer(data,initial_b,initial_w,learning_rate,num_iter)\n",
    "    plt.scatter(x,y)\n",
    "    plt.plot(x,w*x+b)\n",
    "    plt.show()\n",
    "    \n",
    "# 数据 b w 步长 迭代次数\n",
    "def optimizer(data, starting_b, starting_w, learning_rate, num_iter):\n",
    "    b = starting_b\n",
    "    w = starting_w\n",
    "    \n",
    "    #gradient descent\n",
    "    for i in range(num_iter):\n",
    "        b, w = compute_gradient(b, w, data, learning_rate)\n",
    "        if i%100 == 0:\n",
    "            print (\"iter \",i)\n",
    "    return [b, w]\n",
    "def compute_gradient(b_current, w_current, data, learning_rate):\n",
    "    b_gradient = 0 \n",
    "    w_gradient = 0\n",
    "    N = float(len(data))\n",
    "    for i in range(0,len(data)):\n",
    "        x=data[i,0]\n",
    "        y=data[i,1]\n",
    "        b_gradient += -(2/N)*(y-((w_current*x)+b_current))\n",
    "        w_gradient += -(2/N)*x*(y-(w_current*x)+b_current)\n",
    "    new_b = b_current - (learning_rate * b_gradient)\n",
    "    new_w = w_current - (learning_rate*w_gradient)\n",
    "    return [new_b,new_w]\n",
    "LinearRegression()"
   ]
  },
  {
   "cell_type": "code",
   "execution_count": 73,
   "metadata": {},
   "outputs": [
    {
     "data": {
      "text/plain": [
       "9.5"
      ]
     },
     "execution_count": 73,
     "metadata": {},
     "output_type": "execute_result"
    }
   ],
   "source": [
    "np.average(x)\n"
   ]
  }
 ],
 "metadata": {
  "kernelspec": {
   "display_name": "Python 3",
   "language": "python",
   "name": "python3"
  },
  "language_info": {
   "codemirror_mode": {
    "name": "ipython",
    "version": 3
   },
   "file_extension": ".py",
   "mimetype": "text/x-python",
   "name": "python",
   "nbconvert_exporter": "python",
   "pygments_lexer": "ipython3",
   "version": "3.6.8"
  }
 },
 "nbformat": 4,
 "nbformat_minor": 4
}
